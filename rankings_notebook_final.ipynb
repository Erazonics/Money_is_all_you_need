{
 "cells": [
  {
   "cell_type": "code",
   "execution_count": 2,
   "id": "1c1fbbfe",
   "metadata": {},
   "outputs": [],
   "source": [
    "import json\n",
    "from datetime import datetime\n",
    "from collections import defaultdict\n",
    "\n",
    "data_path = \"cleaned_esport_data.json\"\n",
    "\n",
    "with open(data_path, 'r') as file:\n",
    "        esports_data = json.load(file)\n",
    "\n",
    "def calculate_shifted_team_ratings(data_path, date_str):\n",
    "    # Load the data from the JSON file\n",
    "    #with open(data_path, 'r') as file:\n",
    "        #esports_data = json.load(file)\n",
    "\n",
    "    # Convert the input date string to a datetime object\n",
    "    input_date = datetime.strptime(date_str, '%Y-%m-%d')\n",
    "\n",
    "    # Sort the games by eventTime in descending order\n",
    "    sorted_games = sorted(esports_data, key=lambda x: x['eventTime'], reverse=True)\n",
    "\n",
    "    # Initialize a dictionary to store the gold differences for each team\n",
    "    team_gold_diffs = defaultdict(list)\n",
    "\n",
    "    # Iterate through the sorted games to calculate gold differences\n",
    "    for game in sorted_games:\n",
    "        event_time = datetime.fromisoformat(game['eventTime'].replace(\"Z\", \"\"))\n",
    "\n",
    "        # Only consider games before or on the given date\n",
    "        if event_time <= input_date:\n",
    "            try:\n",
    "                team_mappings = game['teamMappings']\n",
    "            except KeyError:\n",
    "                continue  # Skip this game if 'teamMappings' key is not present\n",
    "\n",
    "            # Ensure there are two teams in the game\n",
    "            if len(team_mappings) == 2:\n",
    "                team_1, team_2 = team_mappings\n",
    "                gold_diff = team_1['totalGold'] - team_2['totalGold']\n",
    "\n",
    "                # Assign gold differences based on winning and losing\n",
    "                if gold_diff > 0:\n",
    "                    team_gold_diffs[team_1['name']].append(gold_diff)\n",
    "                    team_gold_diffs[team_2['name']].append(-gold_diff)\n",
    "                elif gold_diff < 0:\n",
    "                    team_gold_diffs[team_2['name']].append(-gold_diff)\n",
    "                    team_gold_diffs[team_1['name']].append(gold_diff)\n",
    "\n",
    "    # Compute the ratings by summing the gold differences of the last 30 games\n",
    "    team_ratings = {}\n",
    "    for team, gold_diffs in team_gold_diffs.items():\n",
    "        if len(gold_diffs) >= 15:\n",
    "            team_ratings[team] = sum(gold_diffs[:30])\n",
    "    \n",
    "    # Diagnostic print statements\n",
    "    #print(f\"Number of teams processed: {len(team_gold_diffs)}\")\n",
    "    #print(f\"Number of teams with 15 or more games: {len(team_ratings)}\")\n",
    "    \n",
    "    if not team_ratings:  # Check if team_ratings is empty\n",
    "        return {}\n",
    "\n",
    "    # Shift all ratings by the absolute value of the minimum rating\n",
    "    min_rating = min(team_ratings.values())\n",
    "    shifted_team_ratings = {team: rating + abs(min_rating) for team, rating in team_ratings.items()}\n",
    "\n",
    "    # Sort the teams by shifted ratings in descending order\n",
    "    sorted_shifted_team_ratings = {k: v for k, v in\n",
    "                                   sorted(shifted_team_ratings.items(), key=lambda item: item[1], reverse=True)}\n",
    "\n",
    "    return sorted_shifted_team_ratings\n",
    "\n",
    "\n",
    "# You can call this function with the path to your data file and a date string in the format 'YYYY-MM-DD'\n",
    "# Example: calculate_shifted_team_ratings('path_to_your_data_file', '2023-09-01')\n",
    "\n",
    "\n",
    "import json\n",
    "from datetime import datetime\n",
    "from collections import defaultdict\n",
    "\n",
    "\n",
    "def calculate_region_multiplier(data_path, date_str):\n",
    "    #with open(data_path, 'r') as file:\n",
    "        #esports_data = json.load(file)\n",
    "\n",
    "    input_date = datetime.strptime(date_str, '%Y-%m-%d')\n",
    "    region_wins = defaultdict(int)\n",
    "    region_total_games = defaultdict(int)\n",
    "\n",
    "    for game in esports_data:\n",
    "        event_time = datetime.fromisoformat(game['eventTime'].replace(\"Z\", \"\"))\n",
    "        if event_time <= input_date and game['region'] == \"INTERNATIONAL\":\n",
    "            team_mappings = game['teamMappings']\n",
    "            if len(team_mappings) == 2:\n",
    "                team_1, team_2 = team_mappings\n",
    "                region_1, region_2 = team_1['actual_region'], team_2['actual_region']\n",
    "                gold_diff = team_1['totalGold'] - team_2['totalGold']\n",
    "                if gold_diff > 0:\n",
    "                    region_wins[region_1] += 1\n",
    "                    region_total_games[region_1] += 1\n",
    "                    region_total_games[region_2] += 1\n",
    "                elif gold_diff < 0:\n",
    "                    region_wins[region_2] += 1\n",
    "                    region_total_games[region_1] += 1\n",
    "                    region_total_games[region_2] += 1\n",
    "\n",
    "    region_multipliers = {}\n",
    "    for region in region_total_games.keys():  # Iterate over all regions including None\n",
    "        wins = region_wins.get(region, 0)\n",
    "        total_games = region_total_games.get(region, 0)\n",
    "        if region is None:  # Check if region is None\n",
    "            region_multipliers[region] = 0.3\n",
    "        else:\n",
    "            winrate = wins / total_games if total_games > 0 else 0\n",
    "            region_multipliers[region] = (1 + (winrate - 0.5))**2\n",
    "\n",
    "    return region_multipliers\n",
    "\n",
    "\n",
    "import json\n",
    "from datetime import datetime\n",
    "from collections import defaultdict\n",
    "\n",
    "def calculate_team_multiplier(data_path, date_str):\n",
    "    #with open(data_path, 'r') as file:\n",
    "        #esports_data = json.load(file)\n",
    "\n",
    "    input_date = datetime.strptime(date_str, '%Y-%m-%d')\n",
    "    team_wins = defaultdict(int)\n",
    "    team_total_games = defaultdict(int)\n",
    "    all_teams = set()  # Keep track of all unique teams\n",
    "    \n",
    "    for game in esports_data:\n",
    "        event_time = datetime.fromisoformat(game['eventTime'].replace(\"Z\", \"\"))\n",
    "        if event_time <= input_date:\n",
    "            team_mappings = game['teamMappings']\n",
    "            if len(team_mappings) == 2:\n",
    "                team_1, team_2 = team_mappings\n",
    "                team_name_1, team_name_2 = team_1['name'], team_2['name']\n",
    "                all_teams.add(team_name_1)  # Add teams to the set of all teams\n",
    "                all_teams.add(team_name_2)\n",
    "                \n",
    "                if game['region'] == \"INTERNATIONAL\":\n",
    "                    gold_diff = team_1['totalGold'] - team_2['totalGold']\n",
    "                    if gold_diff > 0:\n",
    "                        team_wins[team_name_1] += 1\n",
    "                        team_total_games[team_name_1] += 1\n",
    "                        team_total_games[team_name_2] += 1\n",
    "                    elif gold_diff < 0:\n",
    "                        team_wins[team_name_2] += 1\n",
    "                        team_total_games[team_name_1] += 1\n",
    "                        team_total_games[team_name_2] += 1\n",
    "\n",
    "    team_multipliers = {}\n",
    "    for team in all_teams:  # Iterate over all unique teams\n",
    "        wins = team_wins.get(team, 0)\n",
    "        total_games = team_total_games.get(team, 0)\n",
    "        winrate = wins / total_games if total_games > 0 else 0\n",
    "        team_multipliers[team] = (1 + (winrate - 0.5))**2 if total_games > 0 else 0.3  # Assign 0.3 if no international games\n",
    "\n",
    "    return team_multipliers\n",
    "\n",
    "\n",
    "# Example usage:\n",
    "# region_multipliers = calculate_region_multiplier('path_to_your_data_file', '2023-09-01')\n",
    "# team_multipliers = calculate_team_multiplier('path_to_your_data_file', '2023-09-01')\n",
    "\n"
   ]
  },
  {
   "cell_type": "code",
   "execution_count": 3,
   "id": "42287f56-b170-48cf-8d0a-407fb3b5e750",
   "metadata": {
    "tags": []
   },
   "outputs": [
    {
     "name": "stdout",
     "output_type": "stream",
     "text": [
      "region multiplier: {'KOREA': 1.354820600239309, 'HONG KONG, MACAU, TAIWAN': 0.8536153119092628, 'CHINA': 1.3366284428752206, 'BRAZIL': 0.6944444444444443, 'NORTH AMERICA': 0.8732580261593341, 'EMEA': 0.8754288795216154, 'VIETNAM': 0.5625, 'OCEANIA': 0.573265306122449, 'LATIN AMERICA': 0.49826989619377154, 'COMMONWEALTH OF INDEPENDENT STATES': 0.6747448979591836, None: 0.3, 'JAPAN': 0.7561436672967864}\n"
     ]
    }
   ],
   "source": [
    "# region multiplier\n",
    "region_multiplier = calculate_region_multiplier('cleaned_esport_data.json', '2023-09-01')\n",
    "print(\"region multiplier:\", region_multiplier)"
   ]
  },
  {
   "cell_type": "code",
   "execution_count": 4,
   "id": "696e0dca-0ca6-4c33-a6ae-b5b9c2e1c0d8",
   "metadata": {
    "tags": []
   },
   "outputs": [
    {
     "name": "stdout",
     "output_type": "stream",
     "text": [
      "team multiplier: {'Hanwha Life Esports': 1.1842560553633221, 'BWE Esports': 0.3, 'Team Liquid Honda First': 0.3, 'Machi Esports': 0.4444444444444444, 'CrowCrowd Moscow': 0.3, \"Kelyx's Grandpa Gamers\": 0.3, 'DREN Esports': 0.3, 'Eclipse Gaming': 0.3, 'BC Academy': 0.3, 'Team E Turner': 0.3, 'Eclot Gaming': 0.3, 'Mousesports': 0.3, 'VCS All Stars': 2.25, 'Kenty': 0.3, 'INTZ Academy': 0.3, 'TEAM WHALES': 0.3, 'Wildcard': 0.3, 'Cloud9': 0.8247605164514785, 'Vivo Keyd Stars': 0.3, 'Team Tony Top': 0.3, 'PEACE': 0.8402777777777779, 'FL Academy': 0.3, 'University of Western Ontario': 0.3, 'MAD Lions Madrid': 0.3, 'Verdant': 0.3, 'Pentagon Rejects': 0.3, 'AXZ Academy': 0.3, 'Split Raiders': 0.3, 'Astralis Talent': 0.3, 'UCAM': 0.3, 'GTZ Esports': 0.3, 'CGA  Academy': 0.3, 'Team Secret': 0.3, 'Orbit Anonymo': 0.3, 'Solary': 0.3, 'Legacy Esports': 0.765625, 'Bay State College': 0.3, 'Beşiktaş': 0.3, 'Defusekids': 0.3, 'WLGaming Esports': 0.3, 'K1CK Neosurf': 0.3, 'Deep Cross Gaming': 0.3, 'Info Yatırım Aurora': 0.3, 'Rebels': 0.3, 'Herbalife Real Betis': 0.3, 'Inside Games': 0.3, \"Gentlemen's Gaming\": 0.3, 'SAMPI': 0.3, 'GNG Esports': 0.3, 'Liiv SANDBOX': 0.3, 'TSM Challengers': 0.3, 'Janus Esports': 0.3, 'Team Queso': 0.3, 'NS REDFORCE Academy': 0.3, 'kt Challengers': 0.3, 'Griffin': 0.3, 'XTEN Esports': 0.3, 'LEC All-Stars': 1.0, 'Crvena Zvezda Esports': 0.3, 'Vikingekrig Esports': 0.3, 'KOVA Esports': 0.3, 'Blue Otter': 0.3, 'ASUS ROG Elite': 0.3, 'Malvinas Rise': 0.3, 'NongShim REDFORCE': 0.3, 'Aegis': 0.3, 'Liberty Academy': 0.3, 'The Kings': 0.3, 'Ground Zero': 0.3, 'Royal Youth': 0.3, 'KaBuM! Academy': 0.3, 'Berjaya Dragons': 0.3, 'ZennIT': 0.3, 'EFIVE Esports': 0.3, 'Partizan Esports': 0.3, 'Estral Esports': 0.3, 'Golden Guardians Challengers': 0.3, 'Schalke 04 Esports': 0.3, 'Dignitas': 0.3, 'Team Refuse': 0.3, 'Converse University': 0.3, 'Axolotl Esports': 0.3, 'Leviatán Esports': 0.3, 'Ruddy Esports': 0.3, 'Supernova': 0.3, 'Spectacled Bears': 0.3, 'Teamless Revenge': 0.3, 'Maturalni Forsaken': 0.3, 'Benelux United': 0.3, 'Kanga Esports': 0.3, 'Godel Gamers': 0.3, 'Miracle': 0.3, 'INFINITY': 0.37345679012345684, 'Vertex ESC': 0.3, 'SK Gaming': 0.3, 'The Cheese Chasers': 0.3, 'FTW Esports': 0.3, 'SHG Academy': 0.3, 'DSYRE': 0.3, 'FnaticTQ': 0.3, 'Cruzeiro Academy': 0.3, 'SPIKE Syndicate': 0.3, 'Burning Core': 0.3, 'Fenerbahçe Espor': 0.3, 'Fnatic': 0.9298469387755103, 'IZIDREAM': 0.3, '100 Thieves': 0.5625, 'CLG Challengers': 0.3, 'SeolHaeOne Prince': 0.3, 'Northern Lions Esports': 0.3, 'GGEsports': 0.3, 'Alpha Esports': 0.3, 'Team Plink': 0.3, 'Osaka': 0.3, 'All Knights': 0.3, 'Meta Falcon Team': 0.3, 'University of St. Trevor': 0.3, 'Liiv SANDBOX Youth': 0.3, 'Beijing JDG Intel Esports Club': 1.4653739612188366, 'Team Fish Taco': 0.3, 'Winthrop University': 0.3, 'Flamengo ': 0.3, 'Mirage-Elyandra': 0.3, 'Mirage Alliance': 0.3, 'Vega Squadron': 0.3, 'Kwangdong Freecs': 0.3, 'Wild Panthers Esports': 0.3, 'Atleta Esport': 0.3, 'LGD GAMING': 1.315743944636678, 'Invictus Gaming': 0.3, 'Triple Esports': 0.3, 'Redemption Porto Alegre': 0.3, 'Granit Gaming': 0.3, 'Los Heretics': 0.3, 'Black Star Gaming': 0.3, 'PSG Talon': 0.9680020811654527, 'MAMMOTH': 0.3, 'Descuydado Aucas Esports': 0.3, 'Team Vitality': 0.3, 'Goexanimo': 0.3, 'FURIA': 0.3, 'Nyyrikki': 0.3, 'Inaequalis': 0.3, 'Auxesis Esports': 0.3, 'Los Grandes Academy': 0.3, 'Geekay Esports': 0.3, 'Liyab Esports': 0.3, 'Liiv SANDBOX Academy': 0.3, 'LEC Legends': 2.25, 'Odivelas Sports Club': 0.3, 'SuppUp eSports': 0.3, 'Team oNe e-Sports': 0.3, 'mCon esports': 0.3, 'DFM Academy': 0.3, 'Team Liquid Honda Challengers': 0.3, 'T1': 1.3831085102162268, 'Umbra Divinus Gaming': 0.3, 'Team Singularity': 0.3, 'Liberty': 0.3, 'T1 Rookies': 0.3, 'YDN Gamers': 0.3, 'Anubis Gaming': 0.3, 'PIGSPORTS': 0.3, 'eMonkeyz SDH': 0.3, 'INTZ': 0.48999999999999994, 'Impunity Esports': 0.3, 'Komil&Friends': 0.3, 'Nordavind': 0.3, 'Bifrost': 0.3, 'G2 Arctic': 0.3, 'Bwipo Dream Team': 2.25, 'KV Mechelen Esports': 0.3, 'Team Heretics': 0.3, 'SEM9': 0.3, 'ahq eSports Club': 0.3, 'x25 Esports': 0.3, 'Fukuoka SoftBank HAWKS gaming': 0.3, 'Gambit Esports': 0.3, 'DRX Challengers': 0.3, 'SINNERS Esports': 0.3, 'Olympiacos Alimou esports': 0.3, 'Dark Passage': 0.3, 'NNO Prime': 0.3, 'FENNEL': 0.3, 'TOP ESPORTS': 1.2522675736961453, 'Cloud9 Challengers': 0.3, 'CTBC Flying Oyster': 0.4444444444444444, 'Eintracht Spandau': 0.3, 'LOUD': 0.765625, 'Karmine Corp': 0.3, 'CowBoySquad Imperials Esports': 0.3, 'SK Gaming Prime': 0.3, 'PENTA 1860': 0.3, 'Karma Clan Esports': 0.3, 'The Chiefs': 0.25, 'Racoon': 0.3, 'Kwangdong Freecs Academy': 0.3, 'Fox Gaming': 0.3, 'Unicorns of Love': 0.6747448979591836, 'Rock Bottom Esports': 0.3, 'Unicorns of Love Sexy Edition': 0.3, 'CCG Esports': 0.3, 'Team Spirit': 0.3, 'GALAKTICOS': 0.3, 'Golden Guardians': 1.0596885813148786, 'Hurricane Gaming': 0.3, 'FlyQuest Challengers': 0.3, 'Team Bliss': 0.3, 'Keypulse Esports': 0.3, 'Topo Centras Iron Wolves': 0.3, 'Guasones': 0.3, 'CERBERUS ESPORTS': 0.3, 'CR4ZY': 0.3, 'Vipers Inc': 0.3, 'Team 7AM': 0.3, 'Meta Gaming': 0.3, 'FLY FAM': 0.3, 'Dragon Army': 0.3, 'CoreJJ Dream Team': 0.25, 'AOE Gold': 0.3, 'NONGSHIM ESPORTS ACADEMY': 0.3, 'ION SQUAD': 0.3, 'Cyber Wolves Esports': 0.3, 'Riddle Esports': 0.3, 'TSM': 0.25, 'Finetwork KOI': 0.3, 'BRO Challengers': 0.3, 'Hell Pigs': 0.3, 'Team Coachify': 0.3, 'Samsung Morning Stars': 0.3, 'AGO Rogue': 0.3, 'BCN Squad': 0.3, 'Young Buffalos': 0.3, 'Nigma Galaxy': 0.3, 'BTS ESPORTS': 0.3, 'MGN Box Esports': 0.3, 'Undead BK': 0.3, 'Ankora Gaming': 0.3, 'SG Academy': 0.3, 'DK Challengers': 0.3, 'GameWard': 0.3, 'Pixel Esports Club': 0.3, 'Team Flash': 0.3, 'Nexus KTRL': 0.3, 'Pentanet.GG': 0.5216049382716049, 'Esports Empire': 0.3, 'Vanir': 0.3, 'Komodo': 0.3, 'Evil Geniuses LG': 0.973155588020453, 'Team Oplon': 0.3, 'Eintracht Frankfurt': 0.3, 'Hong Kong Attitude': 0.3, 'One Breath Gaming': 0.3, 'AXIZ': 0.3, 'EBRO': 0.3, 'Galatasaray Espor': 0.8919753086419753, 'Suzhou LNG Esports': 1.2913223140495864, 'Six Karma': 0.3, 'BRO Academy': 0.3, 'Isurus': 0.48999999999999994, 'St. Clair College': 0.3, 'The Agency': 0.3, 'Alior Bank Team': 0.3, '3BL Esports': 0.3, 'KOI': 0.6944444444444443, 'paiN Academy': 0.3, 'Dignitas Challengers': 0.3, 'ENEMI3S': 0.3, 'Michigan State University': 0.3, 'PDW': 0.3, 'Team BDS': 0.3, 'Cyberground Gaming': 0.3, 'Furious Gaming': 0.3, 'RENSGA': 0.3, 'RED Academy': 0.3, 'Cold Hearted': 0.3, 'kt Rolster': 0.3, 'KaBuM! Esports': 0.3, 'SBTC ESPORTS': 0.3, 'SHANGHAI EDWARD GAMING HYCAN': 1.12890625, 'DRX Academy': 0.3, 'LCK Legends': 0.25, 'Galaxy Racer': 0.3, 'FLUXO Academy': 0.3, 'MnM Gaming': 0.3, 'Intrepid Fox Gaming': 0.3, 'Royal Never Give Up': 1.5171029149315882, 'Bisons': 0.3, 'Zenigma': 0.3, 'Immortals Progressive': 0.3, 'Gen.G Global Academy': 0.3, 'E WIE EINFACH E-SPORTS': 0.3, 'Team BDS Academy': 0.3, 'Gravitas': 0.3, 'DetonatioN FocusMe': 0.7925342058298632, 'Barça Esports': 0.3, 'Gaia Esports': 0.3, '5 Ronin': 0.3, 'Nativz': 0.3, 'Evil Geniuses Challengers': 0.3, 'Conviction': 0.3, 'LowLandLions': 0.3, 'Giants': 0.3, 'Pirate Dream': 0.3, 'Cyber Gaming': 0.3, 'ORDER': 0.25, 'X7': 0.3, 'Azules Esports': 0.3, 'Dark Tigers': 0.3, 'CB Gaming': 0.3, 'CBLOL All-Stars': 0.25, 'Frank Esports': 0.3, 'Diamant Esports': 0.3, 'MKERS': 0.3, 'HEET': 0.3, 'HLE Academy': 0.3, 'JD|XL': 0.3, 'Miners Academy': 0.3, 'CLG': 0.3, 'BOOM Esports': 0.3, 'HLE Challengers': 0.3, 'RAAD': 0.3, 'Seorabeol Gaming': 0.3, 'Eternal Fire': 0.3, 'Papara SuperMassive ': 0.8402777777777779, 'NASR ESPORTS': 0.3, 'A One Man Army': 0.3, 'Primate': 0.3, 'Apex Mission Impossible': 0.3, 'Wave Esports': 0.3, 'Immortals Progressive Challengers': 0.3, 'OFFSET Esports': 0.3, 'BK ROG Esports': 0.3, 'Dire Wolves': 0.3, 'LPL Queue Kings': 0.25, 'Rensga Academy': 0.3, 'LLA All-Stars': 2.25, 'Myth Esports': 0.3, 'UniQ Esports': 0.3, 'Resolve': 0.3, 'FUT ESPORTS': 0.3, 'Froggy Five': 0.3, 'Hell Zerolag Esports': 0.3, 'DenizBank İstanbul Wildcats': 0.3814878892733564, 'Anorthosis Famagusta Esports': 0.3, 'LEC Queue Kings': 0.25, 'West Point Esports': 0.3, 'Boavista F.C': 0.3, 'Vivo Keyd Stars Academy': 0.3, 'eSuba': 0.3, 'LCS Legends': 0.25, 'LCS All-Stars': 1.0, 'PSV Esports': 0.3, 'RED Kalunga': 0.6944444444444443, 'Varona Esports': 0.3, 'Energypot Wizards': 0.3, 'Schalke 04 Evolution': 0.3, 'Globant Emerald Team': 0.3, 'Saigon Buffalo Esports': 0.6724000000000001, 'NK Osijek Esport': 0.3, 'UST Esports': 0.3, 'Team MCES': 0.3, 'LCS Queue Kings': 2.25, 'Team Aze': 0.4444444444444444, 'Team Phantasma': 0.3, 'V3 Esports': 0.48999999999999994, 'RJ Academy': 0.3, 'Miners': 0.3, 'KDF Challengers': 0.3, 'Astralis': 0.3, 'Dusty': 0.3, 'LDLC OL': 0.3, 'Crest Gaming Act': 0.3, 'EGN Esports': 0.3, 'UCI Esports': 0.3, 'FLUXO': 0.3, 'S2V Esports': 0.3, 'Disguised': 0.3, 'GamerLegion': 0.3, 'Saprissa Esports': 0.3, 'Barrage Esports': 0.3, 'LXE ESPORTS': 0.3, 'WeiboGaming FAW AUDI': 1.2804709141274238, 'The Last Dance': 0.3, 'ISU Redbirds': 0.3, 'Flamengo Academy': 0.3, 'FlyQuest': 1.0, 'KRC Genk Esports': 0.3, 'Goskilla': 0.3, 'Return of the Middlesticks': 0.3, 'Misfits Gaming': 0.3, 'T1 Esports Academy': 0.3, '7more7 Pompa Team': 0.3, 'Bandits Gaming': 0.3, 'V3 Academy': 0.3, 'MAGAZA': 0.3, 'Dynamo Eclot': 0.3, 'CTRL PLAY Team': 0.3, 'Santos HotForex': 0.3, 'Gen.G': 1.2503305785123966, 'Dplus Kia': 1.4997374501155223, 'Beyond Gaming': 0.7901234567901234, 'HMA Fnatic Rising': 0.3, 'Entropiq': 0.3, 'Nord Esports': 0.3, 'Horizon Gaming': 0.3, 'Team GO': 0.3, 'FunPlus Phoenix': 0.4132653061224489, 'Movistar R7': 0.6173469387755102, 'Vitality.Bee': 0.3, 'Misfits Premier': 0.3, 'Wap Esports': 0.3, 'Gentle Hearts Gaming': 0.3, 'Bilibili Gaming Pingan Bank': 1.3313609467455618, 'LJL All-Stars': 2.25, 'Cincinnati Fear': 0.3, 'Dewish Team': 0.3, 'LPL All-Stars': 0.25, 'MAD Lions': 0.8957270408163265, 'Fourth Wall': 0.3, 'webidoo Gaming': 0.3, 'EXEED': 0.3, 'Incubus': 0.3, 'J Team': 0.3, 'Movistar Riders': 0.3, 'Anc Outplayed': 0.3, 'Native Gaming': 0.3, 'SOVEJA': 0.3, 'Devils.One': 0.3, 'GAM Esports': 0.3491735537190083, 'Method2Madness': 0.3, 'Waia Snikt': 0.3, 'EURONICS Gaming': 0.3, 'Hive Athens EC': 0.3, 'Berlin International Gaming': 0.3, 'Mirage': 0.3, 'Grypciocraft Esports': 0.3, 'BRUTE': 0.3, 'LPL Legends': 2.25, 'PCS All-Stars': 2.25, 'OKSavingsBank BRION': 0.3, 'White Dragons': 0.3, 'FURIA Academy': 0.3, 'TCL All-Stars': 0.25, 'LOUD Academy': 0.3, 'Panathinaikos Esports': 0.3, 'Sector One': 0.3, 'DRX': 1.2736734693877552, 'Team ESCA Gaming': 0.3, 'Maryville University': 0.3, '100 Thieves Challengers': 0.3, 'LCK All-Stars': 1.0, 'LCK Queue Kings': 2.25, 'Tomorrow Esports': 0.3, 'NRG': 0.3, 'Peek Gaming': 0.3, 'Godsent': 0.3, 'Cryptova': 0.3, 'LCL-All-Stars': 2.25, 'Gamespace Mediterranean College Esports': 0.3, 'Team Liquid Honda': 1.1141975308641976, 'Valiance PRO GAME': 0.3, 'EXCEL': 0.3, 'paiN Gaming': 0.6944444444444443, 'Macko Esports': 0.3, 'Kaos Latin Gamers': 0.3, 'Sengoku Gaming': 0.3, 'Team Ambition': 0.3, 'G2 Esports': 1.110012755102041, 'Domino Esports': 0.3, 'Tricked Esport': 0.3, 'Illuminar Gaming': 0.3, 'Fuego': 0.3, 'OPL All-Stars': 2.25, 'Aporia': 0.3, 'Zero Tenacity': 0.3, 'Los Grandes': 0.3, 'Rascal Jester': 0.3, 'XtremeDominators': 0.3, 'Lit Esports': 0.3, 'Romulea eSport': 0.3}\n"
     ]
    }
   ],
   "source": [
    "# team multiplier\n",
    "team_multiplier = calculate_team_multiplier('cleaned_esport_data.json', '2023-09-01')\n",
    "print(\"team multiplier:\", team_multiplier)"
   ]
  },
  {
   "cell_type": "code",
   "execution_count": 5,
   "id": "008de5cb-b0e4-440d-9a55-862f22deb602",
   "metadata": {},
   "outputs": [
    {
     "name": "stdout",
     "output_type": "stream",
     "text": [
      "Global Rankings: {'DenizBank İstanbul Wildcats': 689778, 'Macko Esports': 658912, 'Gen.G': 617169, 'SK Gaming Prime': 605030, 'Primate': 598965, 'Entropiq': 585963, 'SHG Academy': 580523, 'PSG Talon': 575895, 'Cloud9 Challengers': 573365, 'Zero Tenacity': 572478, 'GAM Esports': 565941, 'G2 Esports': 562520, 'Fuego': 559690, 'Beijing JDG Intel Esports Club': 559091, 'Bandits Gaming': 557658, 'X7': 551718, 'Royal Youth': 545351, 'Movistar R7': 542896, 'SG Academy': 539629, 'DetonatioN FocusMe': 535041, 'Karmine Corp': 533605, 'Riddle Esports': 532539, 'SuppUp eSports': 530456, 'kt Rolster': 530309, 'T1 Rookies': 522729, 'Mirage Alliance': 519976, 'Cloud9': 519588, 'Team GO': 516182, 'AGO Rogue': 515757, 'Dusty': 511729, 'Disguised': 509223, 'Beyond Gaming': 508043, 'paiN Gaming': 504464, 'Golden Guardians': 503258, 'One Breath Gaming': 502155, 'Machi Esports': 500937, 'Bilibili Gaming Pingan Bank': 498893, 'Diamant Esports': 497806, 'Sengoku Gaming': 497297, 'Team 7AM': 496663, 'CLG Challengers': 495273, 'KRC Genk Esports': 495143, 'LOUD': 494696, 'NONGSHIM ESPORTS ACADEMY': 492042, 'FlyQuest Challengers': 489594, 'Gambit Esports': 488206, 'Evil Geniuses Challengers': 486806, 'Fukuoka SoftBank HAWKS gaming': 485200, 'Movistar Riders': 480496, 'DRX Challengers': 479729, 'Saprissa Esports': 479682, 'Nativz': 479445, 'Winthrop University': 477802, 'KaBuM! Academy': 475933, 'Frank Esports': 474413, 'GTZ Esports': 472690, 'Vivo Keyd Stars Academy': 472432, 'Team Liquid Honda Challengers': 471538, 'Team Bliss': 470742, 'Estral Esports': 470519, 'Giants': 470024, 'Team Tony Top': 469551, 'CTBC Flying Oyster': 467833, 'J Team': 466572, 'Malvinas Rise': 464722, 'Barrage Esports': 463267, 'Six Karma': 460065, 'Dignitas Challengers': 459782, 'Anubis Gaming': 457983, 'RED Kalunga': 457951, 'FUT ESPORTS': 457225, 'BK ROG Esports': 455248, 'HMA Fnatic Rising': 454850, 'Golden Guardians Challengers': 452696, 'CR4ZY': 450477, 'Team Ambition': 448265, 'Hanwha Life Esports': 447268, 'Anorthosis Famagusta Esports': 445423, 'Cyber Wolves Esports': 445198, 'Cincinnati Fear': 444101, 'Suzhou LNG Esports': 443835, 'Fnatic': 443612, 'Geekay Esports': 443463, 'Atleta Esport': 443352, 'WLGaming Esports': 442346, 'Goskilla': 441527, 'Nigma Galaxy': 440225, 'Orbit Anonymo': 436697, 'Unicorns of Love Sexy Edition': 436349, 'CrowCrowd Moscow': 435956, 'Flamengo Academy': 433760, 'Team Liquid Honda': 430447, 'Wap Esports': 429796, 'Kwangdong Freecs Academy': 428529, 'FL Academy': 428303, 'NS REDFORCE Academy': 428280, 'Immortals Progressive Challengers': 425066, 'Dynamo Eclot': 424979, 'TEAM WHALES': 424879, 'SINNERS Esports': 423482, 'Deep Cross Gaming': 422136, 'Evil Geniuses LG': 418465, 'WeiboGaming FAW AUDI': 418110, 'HLE Challengers': 417832, 'Ruddy Esports': 417824, 'Unicorns of Love': 417177, '100 Thieves Challengers': 416406, 'FENNEL': 415287, 'Native Gaming': 414846, 'ORDER': 414760, 'SBTC ESPORTS': 413032, 'paiN Academy': 412726, 'Eintracht Spandau': 412675, 'Verdant': 412277, 'Dplus Kia': 411408, 'Los Heretics': 411393, 'Barça Esports': 410360, 'eSuba': 410276, 'Galatasaray Espor': 408675, 'FTW Esports': 408465, 'Partizan Esports': 408124, 'The Chiefs': 407916, 'kt Challengers': 407149, 'NRG': 404663, 'RAAD': 404473, 'Galaxy Racer': 403331, 'SPIKE Syndicate': 401844, 'Bisons': 401446, 'Bifrost': 400492, 'CGA  Academy': 400430, 'Berlin International Gaming': 399128, 'Crvena Zvezda Esports': 397082, 'Team Secret': 396397, 'Nord Esports': 396366, 'Saigon Buffalo Esports': 393781, 'PDW': 392817, 'EXCEL': 392309, 'Vivo Keyd Stars': 391794, 'Pentanet.GG': 390939, 'JD|XL': 389969, 'Team Vitality': 388476, 'INFINITY': 388416, 'Furious Gaming': 387531, 'FLUXO Academy': 387123, 'CERBERUS ESPORTS': 386811, 'Liberty Academy': 385896, 'T1': 384966, 'FURIA': 384928, 'The Agency': 383111, 'K1CK Neosurf': 383110, 'Olympiacos Alimou esports': 383003, 'Illuminar Gaming': 382178, 'INTZ': 381136, 'Wildcard': 379649, 'Black Star Gaming': 378229, 'A One Man Army': 378128, 'Santos HotForex': 377210, 'HEET': 376617, 'Umbra Divinus Gaming': 375908, 'Royal Never Give Up': 374269, 'DK Challengers': 373894, 'Pirate Dream': 373574, 'BOOM Esports': 373217, 'TSM Challengers': 373122, 'Solary': 373103, 'Finetwork KOI': 372665, 'Waia Snikt': 372492, 'DSYRE': 372180, 'Tricked Esport': 371183, 'Papara SuperMassive ': 370964, 'Astralis Talent': 370014, 'Odivelas Sports Club': 369768, 'Nordavind': 369670, 'Apex Mission Impossible': 369591, 'G2 Arctic': 367043, 'LOUD Academy': 366026, 'Eternal Fire': 364447, '7more7 Pompa Team': 362920, 'Vitality.Bee': 361638, 'Fenerbahçe Espor': 361494, 'EBRO': 361367, 'V3 Academy': 361350, 'Dire Wolves': 361242, 'CCG Esports': 361071, 'Lit Esports': 360902, 'Gaia Esports': 360902, 'Miners Academy': 360445, 'MAD Lions': 359944, 'OFFSET Esports': 358277, 'Mousesports': 357506, 'Invictus Gaming': 357228, 'Beşiktaş': 357210, 'Team Heretics': 355163, 'x25 Esports': 355149, 'INTZ Academy': 355146, 'Gamespace Mediterranean College Esports': 354799, 'Schalke 04 Esports': 354588, 'Nexus KTRL': 353563, 'Schalke 04 Evolution': 353545, 'Alior Bank Team': 352225, 'EGN Esports': 352190, 'Aegis': 352146, 'White Dragons': 350516, 'Isurus': 349743, 'Vikingekrig Esports': 348254, 'DRX Academy': 346776, 'Fox Gaming': 345682, 'FLUXO': 344938, 'LowLandLions': 341623, 'Hive Athens EC': 340043, 'CLG': 339859, 'FnaticTQ': 338437, 'Peek Gaming': 335522, 'Herbalife Real Betis': 334758, 'Axolotl Esports': 334321, 'Vanir': 333459, 'GNG Esports': 331236, 'XTEN Esports': 327618, 'Globant Emerald Team': 326126, 'BCN Squad': 325676, 'Descuydado Aucas Esports': 325347, 'The Kings': 325294, 'HLE Academy': 325069, 'Rebels': 324876, 'EXEED': 323328, 'Maturalni Forsaken': 323001, 'Tomorrow Esports': 322669, 'MAMMOTH': 321904, 'LXE ESPORTS': 321352, 'Resolve': 320261, 'Rascal Jester': 318624, 'BRO Academy': 318185, 'OKSavingsBank BRION': 317338, 'Astralis': 317115, 'TOP ESPORTS': 315908, 'Burning Core': 315522, 'LDLC OL': 315384, 'Meta Gaming': 314283, 'T1 Esports Academy': 313155, 'ZennIT': 313030, 'BWE Esports': 312807, 'Hong Kong Attitude': 312138, 'Cyberground Gaming': 311758, 'Team BDS': 310557, 'MKERS': 309714, 'NASR ESPORTS': 306284, 'Sector One': 306099, 'RED Academy': 305787, 'Eclipse Gaming': 305006, 'AOE Gold': 303675, 'Los Grandes': 303506, \"Gentlemen's Gaming\": 302860, 'S2V Esports': 302654, 'Team Queso': 302458, 'ION SQUAD': 302276, 'Dark Passage': 301959, 'CB Gaming': 301804, 'Eintracht Frankfurt': 301600, 'MAD Lions Madrid': 301527, 'FURIA Academy': 301487, 'Liiv SANDBOX Academy': 301275, 'Mirage-Elyandra': 301137, 'Auxesis Esports': 299908, 'Godsent': 298535, 'Anc Outplayed': 298533, 'Pentagon Rejects': 297750, 'Eclot Gaming': 296515, 'Dragon Army': 295614, 'TSM': 295381, 'Los Grandes Academy': 295365, 'Miners': 295323, 'Misfits Premier': 294899, 'FlyQuest': 294392, 'Team Phantasma': 293019, 'KDF Challengers': 291494, 'Maryville University': 291452, 'Valiance PRO GAME': 290962, 'DRX': 289959, 'Vega Squadron': 289240, 'Karma Clan Esports': 288392, 'Wild Panthers Esports': 287921, 'KOI': 287404, 'Topo Centras Iron Wolves': 287197, 'Legacy Esports': 285009, '100 Thieves': 284980, 'Team BDS Academy': 284855, 'BRUTE': 284576, 'Undead BK': 284167, 'Hell Pigs': 283944, 'NK Osijek Esport': 282669, 'Redemption Porto Alegre': 282642, 'Liiv SANDBOX': 282351, 'Griffin': 282133, 'Info Yatırım Aurora': 281700, 'PENTA 1860': 281596, 'PEACE': 281373, 'Janus Esports': 280176, 'SAMPI': 280136, 'Nyyrikki': 276875, 'BRO Challengers': 275012, 'UCAM': 274729, 'Flamengo ': 273826, 'Triple Esports': 273496, 'eMonkeyz SDH': 273232, 'Misfits Gaming': 271123, 'LGD GAMING': 270737, 'MAGAZA': 269514, 'Team Flash': 268740, 'Gen.G Global Academy': 268659, 'Granit Gaming': 268657, 'Vertex ESC': 267035, 'EURONICS Gaming': 266375, 'FunPlus Phoenix': 265955, 'Dignitas': 265891, 'SHANGHAI EDWARD GAMING HYCAN': 265579, 'SK Gaming': 264389, 'Panathinaikos Esports': 263760, 'Meta Falcon Team': 263750, 'Liyab Esports': 262378, 'Spectacled Bears': 262368, 'mCon esports': 262033, 'KOVA Esports': 256993, 'Berjaya Dragons': 256273, 'GALAKTICOS': 255998, 'AXIZ': 255546, 'DFM Academy': 255308, 'Hell Zerolag Esports': 254647, 'Liiv SANDBOX Youth': 253840, 'Wave Esports': 253274, 'GamerLegion': 253168, 'Domino Esports': 252343, 'Inaequalis': 251187, 'Kaos Latin Gamers': 249837, 'GameWard': 244394, 'Northern Lions Esports': 244252, 'Alpha Esports': 243423, 'Cryptova': 241544, 'NongShim REDFORCE': 241029, 'ASUS ROG Elite': 240875, 'West Point Esports': 240103, 'Grypciocraft Esports': 239584, 'Team ESCA Gaming': 234434, 'Samsung Morning Stars': 231742, 'KV Mechelen Esports': 227801, 'Esports Empire': 226086, 'Team Fish Taco': 225422, 'Supernova': 224876, 'E WIE EINFACH E-SPORTS': 222598, 'Team Spirit': 222465, 'UniQ Esports': 222177, 'MGN Box Esports': 220940, 'DREN Esports': 215687, 'Team Aze': 214517, 'Ground Zero': 214021, 'Split Raiders': 210344, 'Team MCES': 207929, 'IZIDREAM': 207610, 'Devils.One': 206733, '3BL Esports': 204548, 'Crest Gaming Act': 203396, 'Komil&Friends': 201013, 'MnM Gaming': 200564, 'Osaka': 200252, 'Team Oplon': 199639, 'NNO Prime': 199360, 'BC Academy': 199146, 'EFIVE Esports': 198534, 'Kwangdong Freecs': 196361, 'Ankora Gaming': 194194, 'Hurricane Gaming': 194177, 'Liberty': 192093, 'Guasones': 187662, 'All Knights': 185240, 'RENSGA': 183308, 'AXZ Academy': 178449, 'Immortals Progressive': 175444, 'Team Liquid Honda First': 168629, 'KaBuM! Esports': 159715, 'CowBoySquad Imperials Esports': 158492, 'Dark Tigers': 157794, 'Team Refuse': 154460, 'Inside Games': 130944, 'FLY FAM': 130500, 'Impunity Esports': 129108, 'GGEsports': 121622, 'CTRL PLAY Team': 112208, 'Kanga Esports': 101540, 'Rensga Academy': 98981, 'Team Singularity': 82432, 'Dewish Team': 76410, 'SeolHaeOne Prince': 66895, 'Gravitas': 56753, 'V3 Esports': 49860, 'Boavista F.C': 44495, 'The Last Dance': 32178, 'SEM9': 23191, '5 Ronin': 0}\n"
     ]
    }
   ],
   "source": [
    "\n",
    "# Global Rankings Example without mutlipliers\n",
    "global_rankings = calculate_shifted_team_ratings('cleaned_esport_data.json', '2023-09-01')\n",
    "print(\"Global Rankings:\", global_rankings)\n",
    "\n",
    "\n"
   ]
  },
  {
   "cell_type": "code",
   "execution_count": 6,
   "id": "0ac4a4ed-55c3-4f68-acae-0bfd27cdac37",
   "metadata": {
    "tags": []
   },
   "outputs": [],
   "source": [
    "def calculate_adjusted_team_ratings(data_path, date_str):\n",
    "    \n",
    "    region_multiplier = calculate_region_multiplier(data_path, date_str)\n",
    "    team_multiplier = calculate_team_multiplier(data_path, date_str)\n",
    "    global_shifted_rankings = calculate_shifted_team_ratings(data_path, date_str)\n",
    "    \n",
    "      # Diagnostic print statements\n",
    "   # print(f\"Number of teams in shifted_team_ratings: {len(global_adjusted_rankings)}\")\n",
    "   # print(f\"Region multipliers: {region_multiplier}\")\n",
    "    #print(f\"Team multipliers: {team_multiplier}\")\n",
    "\n",
    "    adjusted_team_ratings = {}\n",
    "    \n",
    "    # Load the esports data to get the regions for the teams\n",
    "    with open(data_path, 'r') as file:\n",
    "        esports_data = json.load(file)\n",
    "    \n",
    "    # Create a dictionary mapping teams to their regions\n",
    "    team_to_region = {}\n",
    "    for game in esports_data:\n",
    "        for team_mapping in game['teamMappings']:\n",
    "            team_name = team_mapping['name']\n",
    "            if team_mapping.get('region') == \"INTERNATIONAL\":\n",
    "                team_to_region[team_name] = team_mapping.get('actual_region', None)\n",
    "            else:\n",
    "                team_to_region[team_name] = team_mapping.get('region', None)\n",
    "    \n",
    "    # Adjust the ratings by applying the multipliers\n",
    "    for team, rating in global_shifted_rankings.items():\n",
    "        region = team_to_region.get(team, None)\n",
    "        region_multipliers = region_multiplier.get(region, 1)\n",
    "        team_multipliers = team_multiplier.get(team, 1)\n",
    "        \n",
    "        adjusted_rating = rating * region_multipliers * team_multipliers\n",
    "        adjusted_team_ratings[team] = adjusted_rating\n",
    "    \n",
    "    # Sort the adjusted ratings in descending order\n",
    "    sorted_adjusted_team_ratings = {k: v for k, v in\n",
    "                                    sorted(adjusted_team_ratings.items(), key=lambda item: item[1], reverse=True)}\n",
    "    \n",
    "    return sorted_adjusted_team_ratings\n"
   ]
  },
  {
   "cell_type": "code",
   "execution_count": 7,
   "id": "dce65d7b-6497-4fca-a8af-4875bc00881e",
   "metadata": {
    "tags": []
   },
   "outputs": [],
   "source": [
    "def calculate_tournament_rankings(data_path, tournament_id):\n",
    "    with open(data_path, 'r') as file:\n",
    "        esports_data = json.load(file)\n",
    "\n",
    "    # Get the last day of the tournament\n",
    "    tournament_games = [game for game in esports_data if game['tournamentId'] == tournament_id]\n",
    "    last_game_time = max(game['eventTime'] for game in tournament_games)\n",
    "    last_day = datetime.fromisoformat(last_game_time.replace(\"Z\", \"\"))\n",
    "\n",
    "    # Calculate the adjusted ratings as of the last day of the tournament\n",
    "    adjusted_ratings = calculate_adjusted_team_ratings(data_path, last_day.strftime('%Y-%m-%d'))\n",
    "\n",
    "    # Get the names of the teams that participated in the tournament\n",
    "    tournament_teams = set()\n",
    "    for game in tournament_games:\n",
    "        for team_mapping in game['teamMappings']:\n",
    "            tournament_teams.add(team_mapping['name'])\n",
    "\n",
    "    # Filter the adjusted ratings to include only the teams that participated in the tournament\n",
    "    tournament_rankings = {team: rating for team, rating in adjusted_ratings.items() if team in tournament_teams}\n",
    "\n",
    "    # Sort the teams by adjusted ratings in descending order\n",
    "    sorted_tournament_rankings = {k: v for k, v in\n",
    "                                  sorted(tournament_rankings.items(), key=lambda item: item[1], reverse=True)}\n",
    "\n",
    "    return sorted_tournament_rankings\n",
    "\n",
    "# Example usage:\n",
    "# tournament_rankings = calculate_tournament_rankings('path_to_your_data_file', 'your_tournament_id')\n",
    "# print(tournament_rankings)"
   ]
  },
  {
   "cell_type": "code",
   "execution_count": 8,
   "id": "e949fb52-b184-4fc7-9650-5118e5e284ba",
   "metadata": {
    "tags": []
   },
   "outputs": [],
   "source": [
    "def get_team_rankings(data_path, date_str, team_names):\n",
    "    \"\"\"\n",
    "    Get the rankings of specified teams as of a certain date.\n",
    "    \"\"\"\n",
    "    # Get the global rankings using the existing function\n",
    "    global_rankings = calculate_adjusted_team_ratings(data_path, date_str)\n",
    "\n",
    "    # Filter the global rankings to get rankings of the specified teams\n",
    "    team_rankings = {team: rank for team, rank in global_rankings.items() if team in team_names}\n",
    "\n",
    "    return team_rankings"
   ]
  },
  {
   "cell_type": "code",
   "execution_count": 9,
   "id": "0a9cdc4a-04c0-4fcf-b2ec-d1f2031a2433",
   "metadata": {
    "tags": []
   },
   "outputs": [
    {
     "name": "stdout",
     "output_type": "stream",
     "text": [
      "{'Beijing JDG Intel Esports Club': 1095069.466558687, 'Gen.G': 1045468.0080921622, 'Bilibili Gaming Pingan Bank': 887797.5094322672, 'Dplus Kia': 835929.7091412746, 'Suzhou LNG Esports': 766067.2584497978, 'Royal Never Give Up': 758943.7661500057, 'T1': 721373.8909001211, 'Hanwha Life Esports': 717621.1552006113, 'WeiboGaming FAW AUDI': 715601.0533554589, 'G2 Esports': 546621.6223746446, 'TOP ESPORTS': 528772.009327212, 'DRX': 500352.976187166, 'LGD GAMING': 476134.5435792178, 'PSG Talon': 475862.84385625285, 'Golden Guardians': 465705.6725500824, 'Team Liquid Honda': 418817.155643891, 'SHANGHAI EDWARD GAMING HYCAN': 400739.64324833406, 'Cloud9': 374222.210897149, 'Fnatic': 361106.7617329183, 'Evil Geniuses LG': 355618.2222856912, 'Beyond Gaming': 342655.4341991645, 'DetonatioN FocusMe': 320633.87071562634, 'Galatasaray Espor': 319118.34670007834, 'MAD Lions': 282248.40295375447, 'Papara SuperMassive ': 272882.3921000392, 'LOUD': 263021.9618055555, 'FlyQuest': 257080.1768370987, 'paiN Gaming': 243279.3209876542, 'DenizBank İstanbul Wildcats': 230362.0653213403, 'RED Kalunga': 220848.28317901224, 'kt Rolster': 215542.0673076923, 'T1 Rookies': 212461.20526274812, 'NONGSHIM ESPORTS ACADEMY': 199988.59133488502, 'DRX Challengers': 194984.01951966106, 'Machi Esports': 190047.77488972901, 'Unicorns of Love': 189932.62712313875, 'Primate': 179689.5, 'CTBC Flying Oyster': 177488.62765175384, 'KOI': 174723.4456180766, 'Kwangdong Freecs Academy': 174173.97509998525, 'NS REDFORCE Academy': 174072.77000114738, 'Macko Esports': 173049.178159004, 'HLE Challengers': 169826.22031175726, 'Fuego': 167907.0, 'Bandits Gaming': 167297.4, 'Movistar R7': 166997.738577784, 'kt Challengers': 165484.15577005033, 'SK Gaming Prime': 158898.2204930889, 'Entropiq': 153890.6797593373, 'DK Challengers': 151967.78805176285, 'Zero Tenacity': 150349.1322272326, 'Cloud9 Challengers': 150208.676450654, 'Saigon Buffalo Esports': 148937.81872500002, 'FunPlus Phoenix': 146908.7980587511, 'X7': 144896.96116557196, 'Saprissa Esports': 143904.6, 'Invictus Gaming': 143244.3316174288, 'Royal Youth': 143224.80446279774, 'DRX Academy': 140945.78054057597, 'Karmine Corp': 140139.96817713947, '100 Thieves': 139984.35316587397, 'Riddle Esports': 139860.00602146846, 'Malvinas Rise': 139416.6, 'SuppUp eSports': 139312.9505146554, 'Mirage Alliance': 136221.96462306776, 'Team GO': 135564.18896676792, 'PEACE': 135537.9642814626, 'AGO Rogue': 135452.57178462893, 'Dusty': 134394.70352661502, 'Disguised': 133404.92155648037, 'HLE Academy': 132123.05330975758, 'SHG Academy': 131687.6370510397, 'Diamant Esports': 130738.12463974119, 'Team 7AM': 130437.94007695322, 'KRC Genk Esports': 130038.74450789136, 'CLG Challengers': 129750.33671700356, 'INTZ': 129692.11111111108, 'BRO Academy': 129325.07780614335, 'OKSavingsBank BRION': 128980.81789162254, 'Wap Esports': 128938.79999999999, 'FlyQuest Challengers': 128262.5670178359, 'Evil Geniuses Challengers': 127532.17400475623, 'T1 Esports Academy': 127280.65352038224, 'Movistar Riders': 126192.02246838543, 'Nativz': 125915.99974267227, 'Winthrop University': 125173.32942449464, 'GTZ Esports': 124141.94311832171, 'Team Liquid Honda Challengers': 123532.30294173602, 'Giants': 123441.77510048033, 'Team Tony Top': 123011.75383234244, 'Liiv SANDBOX Academy': 122452.07290112934, 'SG Academy': 122411.11531190926, 'Barrage Esports': 121667.19321880204, 'Frank Esports': 121489.86029064271, 'Team Bliss': 120549.77374763705, 'Dignitas Challengers': 120452.49653507728, 'Anubis Gaming': 120279.46335898439, 'FUT ESPORTS': 120080.39083178117, 'BK ROG Esports': 119561.17396333691, 'J Team': 119481.90099243856, 'HMA Fnatic Rising': 119456.64775512203, 'Golden Guardians Challengers': 118596.12462306776, 'KDF Challengers': 118476.62281384715, 'CR4ZY': 118308.17260807761, 'Team Ambition': 117435.30272889417, 'Anorthosis Famagusta Esports': 116980.84734094696, 'Cyber Wolves Esports': 116921.75589157923, 'Pentanet.GG': 116897.80361489039, 'Geekay Esports': 116466.09515978822, 'Atleta Esport': 116436.94337810017, 'Cincinnati Fear': 116344.42880261593, 'WLGaming Esports': 116172.73894226053, 'Goskilla': 115957.64606656208, 'Nigma Galaxy': 115615.70354622095, 'Liiv SANDBOX': 114760.48538945074, 'Orbit Anonymo': 114689.14962013526, 'Griffin': 114671.8801221951, 'Unicorns of Love Sexy Edition': 114597.7548451132, 'Sengoku Gaming': 112808.39319470698, 'Pirate Dream': 112072.2, 'BRO Challengers': 111777.57687390385, 'Waia Snikt': 111747.59999999999, 'Dynamo Eclot': 111611.66693706498, 'Immortals Progressive Challengers': 111357.68884423305, 'SINNERS Esports': 111218.51182727182, 'GAM Esports': 111156.54196797522, 'Fukuoka SoftBank HAWKS gaming': 110064.27221172022, 'Ruddy Esports': 109732.55884717182, 'Gen.G Global Academy': 109195.42429190775, '100 Thieves Challengers': 109088.96449227112, 'Native Gaming': 108680.27973602853, 'EBRO': 108410.09999999999, 'Eintracht Spandau': 108380.28385697478, 'Verdant': 108275.75764875991, 'Deep Cross Gaming': 108102.52599243856, 'Los Heretics': 108043.59390991078, 'Barça Esports': 107772.29850014702, 'eSuba': 107750.23769238307, 'FTW Esports': 107274.61718213899, 'Partizan Esports': 107185.06080776393, 'RAAD': 106226.2035560239, 'NRG': 106012.56379191439, 'Galaxy Racer': 105926.28162189979, 'SPIKE Syndicate': 105535.7527987452, 'Bisons': 105431.22659053032, 'Bifrost': 105180.67884521124, 'Berlin International Gaming': 104822.453347711, 'Crvena Zvezda Esports': 104285.11510146063, 'Nord Esports': 104097.07297813939, 'Liiv SANDBOX Youth': 103172.29834942386, 'PDW': 103165.00385011271, 'EXCEL': 103031.58848887362, 'JD|XL': 102417.03741544945, 'Team Vitality': 102024.93282031172, 'One Breath Gaming': 101647.95727040815, 'Peek Gaming': 100656.59999999999, 'The Agency': 100615.93003872166, 'K1CK Neosurf': 100615.66741005781, 'Olympiacos Alimou esports': 100587.56614302518, 'Illuminar Gaming': 100370.89749534358, 'Wildcard': 99459.46091200951, 'A One Man Army': 99307.25140672481, 'KaBuM! Academy': 99152.7083333333, 'HEET': 98910.41949563766, 'Gambit Esports': 98824.35229591835, 'Umbra Divinus Gaming': 98724.2157729634, 'Vivo Keyd Stars Academy': 98423.3333333333, 'Solary': 97987.54237084597, 'NongShim REDFORCE': 97965.31633652412, 'Finetwork KOI': 97872.51101607685, 'TSM Challengers': 97749.53437098692, 'DSYRE': 97745.13611410644, 'Descuydado Aucas Esports': 97604.09999999999, 'Tricked Esport': 97483.29533624153, 'Astralis Talent': 97176.2824281933, 'FL Academy': 97157.58034026464, 'Odivelas Sports Club': 97111.6757768846, 'Nordavind': 97085.93816782667, 'Apex Mission Impossible': 96824.49214387634, 'Tomorrow Esports': 96800.7, 'G2 Arctic': 96396.01266787568, 'Eternal Fire': 95714.22865650425, 'BOOM Esports': 95575.12375945179, '7more7 Pompa Team': 95313.1946867954, 'Vitality.Bee': 94976.50473973139, 'Fenerbahçe Espor': 94938.68621213605, 'Gaia Esports': 94783.210043133, 'CCG Esports': 94592.44462901307, 'Lit Esports': 94548.1704470868, 'Meta Gaming': 94284.9, 'FENNEL': 94204.99054820415, 'OFFSET Esports': 94093.80980050974, 'Mousesports': 93891.3231006764, 'Beşiktaş': 93813.58501617487, 'Team Heretics': 93275.98414126065, 'x25 Esports': 93272.30733996666, 'Gamespace Mediterranean College Esports': 93180.38730761688, 'Schalke 04 Esports': 93124.97265954317, 'Nexus KTRL': 92855.77827909027, 'Schalke 04 Evolution': 92851.05096314085, 'Alior Bank Team': 92504.3811268503, 'EGN Esports': 92495.18912361532, 'Aegis': 92483.63346240563, 'White Dragons': 92055.54874031956, 'Eclipse Gaming': 91501.8, 'Vikingekrig Esports': 91461.48270267619, 'CGA  Academy': 90834.78260869565, 'Fox Gaming': 90786.00177923733, 'Flamengo Academy': 90366.66666666666, 'LowLandLions': 89719.99203264384, 'Hive Athens EC': 89305.0387437506, 'CLG': 89035.37985374554, 'FnaticTQ': 88883.25710959708, 'CrowCrowd Moscow': 88247.72602040815, 'Herbalife Real Betis': 87917.04625526907, 'Axolotl Esports': 87802.2775291638, 'Vanir': 87575.8916209195, 'GNG Esports': 86992.06810116653, 'paiN Academy': 85984.5833333333, 'BCN Squad': 85531.85273012448, 'Isurus': 85390.54006920413, 'Rebels': 85321.74979903929, 'Undead BK': 85250.09999999999, 'EXEED': 84915.20062738945, 'Maturalni Forsaken': 84829.32105430838, 'Resolve': 84109.71851534162, 'Janus Esports': 84052.8, 'Astralis': 83283.4887388491, 'LDLC OL': 82828.87852171354, 'ZennIT': 82210.65064699539, 'BWE Esports': 82152.08445495539, 'V3 Academy': 81969.75425330813, 'Cyberground Gaming': 81876.58698656994, 'Vivo Keyd Stars': 81623.74999999999, 'Team BDS': 81561.16996127828, 'MKERS': 81339.77399764727, 'FLUXO Academy': 80650.62499999999, 'NASR ESPORTS': 80438.95768061954, 'Liberty Academy': 80394.99999999997, 'Sector One': 80390.37137780609, 'FURIA': 80193.33333333331, 'Hong Kong Attitude': 79933.73286862003, 'Kwangdong Freecs': 79810.17836507728, 'AOE Gold': 79555.98932818075, \"Gentlemen's Gaming\": 79539.71713557493, 'S2V Esports': 79485.6156308205, 'Team Queso': 79434.14041270463, 'ION SQUAD': 79386.34199588274, 'Dark Passage': 79303.08870944024, 'Eintracht Frankfurt': 79208.80501911575, 'MAD Lions Madrid': 79189.63312665423, 'Mirage-Elyandra': 79087.2079477502, 'CB Gaming': 79065.8295980975, 'Auxesis Esports': 78764.43731987059, 'Spectacled Bears': 78710.4, 'Santos HotForex': 78585.41666666666, 'Godsent': 78403.84816439563, 'Anc Outplayed': 78403.32290706792, 'Pentagon Rejects': 78197.6846632683, 'Eclot Gaming': 77873.33826340555, 'Misfits Premier': 77448.93034261346, 'Team Phantasma': 76955.18845456326, 'Black Star Gaming': 76562.42640306121, 'Valiance PRO GAME': 76414.96129301048, 'Maryville University': 76353.83947205708, 'LOUD Academy': 76255.41666666664, 'Karma Clan Esports': 75740.0056268993, 'Wild Panthers Esports': 75616.30752622291, 'Topo Centras Iron Wolves': 75426.16437359081, 'Miners Academy': 75092.70833333331, 'Team BDS Academy': 74811.08804283892, 'BRUTE': 74737.81464562297, 'NK Osijek Esport': 74236.98178364865, 'INTZ Academy': 73988.74999999999, 'Info Yatırım Aurora': 73982.49460837172, 'PENTA 1860': 73955.18122733064, 'SAMPI': 73571.74337810017, 'Nyyrikki': 72715.31130526417, 'Hell Pigs': 72713.68383742911, 'Rascal Jester': 72277.65595463138, 'INFINITY': 72277.33333333333, 'UCAM': 72151.71019262816, 'FLUXO': 71862.08333333331, 'Triple Esports': 71827.88905009312, 'eMonkeyz SDH': 71758.55508283501, 'TEAM WHALES': 71698.33125, 'Burning Core': 71573.98865784498, 'Misfits Gaming': 71204.67123076168, 'MAGAZA': 70782.1017106166, 'Granit Gaming': 70557.02894569159, 'Estral Esports': 70333.63598615915, 'EURONICS Gaming': 69957.7103347711, 'SBTC ESPORTS': 69699.15, 'Dignitas': 69657.43495005945, 'SK Gaming': 69436.12980835211, 'Panathinaikos Esports': 69270.93637878638, 'mCon esports': 68817.37667630623, 'Six Karma': 68770.96193771625, 'Meta Falcon Team': 67542.31155482041, 'KOVA Esports': 67493.72821046955, 'GALAKTICOS': 67232.41268993235, 'Liyab Esports': 67190.96349243856, 'Team Secret': 66891.99375, 'Hell Zerolag Esports': 66877.60136506223, 'Wave Esports': 66517.01220958728, 'GamerLegion': 66489.1735712185, 'Domino Esports': 66272.5049235369, 'Inaequalis': 65968.90618811881, 'Berjaya Dragons': 65627.56704867675, 'Legacy Esports': 65463.0046875, 'CERBERUS ESPORTS': 65274.35625, 'TSM': 64485.95725624257, 'GameWard': 64184.869674541704, 'Northern Lions Esports': 64147.57640427408, 'RED Academy': 63705.624999999985, 'Cryptova': 63436.37798255072, 'ASUS ROG Elite': 63260.679406430725, 'Los Grandes': 63230.41666666665, 'Grypciocraft Esports': 62921.625801392016, 'FURIA Academy': 62809.79166666666, 'Alpha Esports': 62336.88002126654, 'Dire Wolves': 62126.25171428571, 'Team ESCA Gaming': 61569.088182531115, 'Los Grandes Academy': 61534.374999999985, 'Miners': 61525.624999999985, 'West Point Esports': 61486.67917060491, 'Samsung Morning Stars': 60862.09181942946, 'Osaka': 60075.6, 'Dragon Army': 59839.211479591824, 'KV Mechelen Esports': 59827.07225517105, 'ORDER': 59441.87959183673, 'Esports Empire': 59376.66409665719, 'Team Fish Taco': 59055.471231866824, 'Supernova': 58912.43156718192, 'Redemption Porto Alegre': 58883.749999999985, 'Vega Squadron': 58548.964285714275, 'The Chiefs': 58461.02265306122, 'E WIE EINFACH E-SPORTS': 58460.61531712576, 'UniQ Esports': 58350.04864964218, 'AXIZ': 57968.846880907375, 'Furious Gaming': 57928.50934256054, 'DFM Academy': 57914.85822306238, 'Flamengo ': 57047.08333333332, 'DREN Esports': 56645.588621213596, 'MAMMOTH': 55360.918530612245, 'Split Raiders': 55242.363670228406, 'Team MCES': 54608.11544701499, 'IZIDREAM': 54524.336903244766, 'Devils.One': 54294.01156504263, 'LXE ESPORTS': 54228.15, '3BL Esports': 53720.16793451622, 'Komil&Friends': 52791.775607783544, 'MnM Gaming': 52673.85533771198, 'Team Oplon': 52430.923823644735, 'NNO Prime': 52357.65042642877, 'EFIVE Esports': 52140.71915008332, 'Ankora Gaming': 51000.910748946175, 'Hurricane Gaming': 49725.73812618147, 'Guasones': 49285.42031663561, 'XTEN Esports': 48972.65605536331, 'Globant Emerald Team': 48749.630449826975, 'The Kings': 48625.262283737015, 'Team Aze': 47505.49480968857, 'Crest Gaming Act': 46138.97920604915, 'Immortals Progressive': 45962.364342449466, 'Vertex ESC': 45924.57030612245, 'Team Flash': 45349.875, 'BC Academy': 45174.89603024575, 'Team Spirit': 45032.13711734693, 'Team Liquid Honda First': 44176.9883079667, 'CowBoySquad Imperials Esports': 41624.54219194195, 'Dark Tigers': 41441.227384570135, 'Team Refuse': 40565.62341927261, 'AXZ Academy': 40479.92438563327, 'Liberty': 40019.374999999985, 'RENSGA': 38189.16666666666, 'Kaos Latin Gamers': 37345.876816608994, 'MGN Box Esports': 37283.625, 'Ground Zero': 36807.24422448979, 'Inside Games': 34389.64776002352, 'FLY FAM': 34188.05172413793, 'KaBuM! Esports': 33273.95833333333, 'Impunity Esports': 33062.56970699433, 'GGEsports': 31941.423355553372, 'All Knights': 27689.85467128027, 'SeolHaeOne Prince': 27189.217215902576, 'CTRL PLAY Team': 22713.53265306122, 'Team Singularity': 21649.00601901774, 'Rensga Academy': 20621.041666666664, 'Dewish Team': 19567.42379489603, 'V3 Esports': 18473.648393194708, 'Kanga Esports': 17462.80775510204, 'Boavista F.C': 11685.662398294282, 'Gravitas': 9760.357775510203, 'The Last Dance': 8429.909029726516, 'SEM9': 5938.857809546314, '5 Ronin': 0.0}\n"
     ]
    }
   ],
   "source": [
    "# Global Rankings Example\n",
    "global_adjusted_rankings = calculate_adjusted_team_ratings('cleaned_esport_data.json', '2023-09-01')\n",
    "print(global_adjusted_rankings)"
   ]
  },
  {
   "cell_type": "code",
   "execution_count": 10,
   "id": "39f1e358-da7e-4aff-a5ee-6d20ac19a735",
   "metadata": {
    "tags": []
   },
   "outputs": [
    {
     "name": "stdout",
     "output_type": "stream",
     "text": [
      "{'Bilibili Gaming Pingan Bank': 887797.5094322672, 'FunPlus Phoenix': 146908.7980587511, 'Team Liquid Honda First': 44176.9883079667}\n"
     ]
    }
   ],
   "source": [
    "team_names = ['Bilibili Gaming Pingan Bank', 'Team Liquid Honda First', 'FunPlus Phoenix']\n",
    "team_rankings = get_team_rankings('cleaned_esport_data.json','2023-09-01', team_names)\n",
    "print(team_rankings)"
   ]
  },
  {
   "cell_type": "code",
   "execution_count": 11,
   "id": "13cf790e-6ade-425c-9b18-a574284ed488",
   "metadata": {
    "tags": []
   },
   "outputs": [
    {
     "name": "stdout",
     "output_type": "stream",
     "text": [
      "{'Fnatic': 86273.09999999999, 'G2 Esports': 78005.4, 'Astralis': 73471.2, 'Misfits Gaming': 45435.299999999996, 'MAD Lions': 43845.0, 'KOI': 43296.299999999996, 'Schalke 04 Esports': 32605.8, 'EXCEL': 29003.1, 'SK Gaming': 14920.199999999999, 'Team Vitality': 3539.7}\n"
     ]
    }
   ],
   "source": [
    "tournament_rankings = calculate_tournament_rankings('cleaned_esport_data.json', '103462459318635408')\n",
    "print(tournament_rankings)"
   ]
  },
  {
   "cell_type": "code",
   "execution_count": null,
   "id": "5e2bbe15-bf2b-43b8-921f-14a96eebcdb2",
   "metadata": {},
   "outputs": [],
   "source": []
  }
 ],
 "metadata": {
  "availableInstances": [
   {
    "_defaultOrder": 0,
    "_isFastLaunch": true,
    "category": "General purpose",
    "gpuNum": 0,
    "hideHardwareSpecs": false,
    "memoryGiB": 4,
    "name": "ml.t3.medium",
    "vcpuNum": 2
   },
   {
    "_defaultOrder": 1,
    "_isFastLaunch": false,
    "category": "General purpose",
    "gpuNum": 0,
    "hideHardwareSpecs": false,
    "memoryGiB": 8,
    "name": "ml.t3.large",
    "vcpuNum": 2
   },
   {
    "_defaultOrder": 2,
    "_isFastLaunch": false,
    "category": "General purpose",
    "gpuNum": 0,
    "hideHardwareSpecs": false,
    "memoryGiB": 16,
    "name": "ml.t3.xlarge",
    "vcpuNum": 4
   },
   {
    "_defaultOrder": 3,
    "_isFastLaunch": false,
    "category": "General purpose",
    "gpuNum": 0,
    "hideHardwareSpecs": false,
    "memoryGiB": 32,
    "name": "ml.t3.2xlarge",
    "vcpuNum": 8
   },
   {
    "_defaultOrder": 4,
    "_isFastLaunch": true,
    "category": "General purpose",
    "gpuNum": 0,
    "hideHardwareSpecs": false,
    "memoryGiB": 8,
    "name": "ml.m5.large",
    "vcpuNum": 2
   },
   {
    "_defaultOrder": 5,
    "_isFastLaunch": false,
    "category": "General purpose",
    "gpuNum": 0,
    "hideHardwareSpecs": false,
    "memoryGiB": 16,
    "name": "ml.m5.xlarge",
    "vcpuNum": 4
   },
   {
    "_defaultOrder": 6,
    "_isFastLaunch": false,
    "category": "General purpose",
    "gpuNum": 0,
    "hideHardwareSpecs": false,
    "memoryGiB": 32,
    "name": "ml.m5.2xlarge",
    "vcpuNum": 8
   },
   {
    "_defaultOrder": 7,
    "_isFastLaunch": false,
    "category": "General purpose",
    "gpuNum": 0,
    "hideHardwareSpecs": false,
    "memoryGiB": 64,
    "name": "ml.m5.4xlarge",
    "vcpuNum": 16
   },
   {
    "_defaultOrder": 8,
    "_isFastLaunch": false,
    "category": "General purpose",
    "gpuNum": 0,
    "hideHardwareSpecs": false,
    "memoryGiB": 128,
    "name": "ml.m5.8xlarge",
    "vcpuNum": 32
   },
   {
    "_defaultOrder": 9,
    "_isFastLaunch": false,
    "category": "General purpose",
    "gpuNum": 0,
    "hideHardwareSpecs": false,
    "memoryGiB": 192,
    "name": "ml.m5.12xlarge",
    "vcpuNum": 48
   },
   {
    "_defaultOrder": 10,
    "_isFastLaunch": false,
    "category": "General purpose",
    "gpuNum": 0,
    "hideHardwareSpecs": false,
    "memoryGiB": 256,
    "name": "ml.m5.16xlarge",
    "vcpuNum": 64
   },
   {
    "_defaultOrder": 11,
    "_isFastLaunch": false,
    "category": "General purpose",
    "gpuNum": 0,
    "hideHardwareSpecs": false,
    "memoryGiB": 384,
    "name": "ml.m5.24xlarge",
    "vcpuNum": 96
   },
   {
    "_defaultOrder": 12,
    "_isFastLaunch": false,
    "category": "General purpose",
    "gpuNum": 0,
    "hideHardwareSpecs": false,
    "memoryGiB": 8,
    "name": "ml.m5d.large",
    "vcpuNum": 2
   },
   {
    "_defaultOrder": 13,
    "_isFastLaunch": false,
    "category": "General purpose",
    "gpuNum": 0,
    "hideHardwareSpecs": false,
    "memoryGiB": 16,
    "name": "ml.m5d.xlarge",
    "vcpuNum": 4
   },
   {
    "_defaultOrder": 14,
    "_isFastLaunch": false,
    "category": "General purpose",
    "gpuNum": 0,
    "hideHardwareSpecs": false,
    "memoryGiB": 32,
    "name": "ml.m5d.2xlarge",
    "vcpuNum": 8
   },
   {
    "_defaultOrder": 15,
    "_isFastLaunch": false,
    "category": "General purpose",
    "gpuNum": 0,
    "hideHardwareSpecs": false,
    "memoryGiB": 64,
    "name": "ml.m5d.4xlarge",
    "vcpuNum": 16
   },
   {
    "_defaultOrder": 16,
    "_isFastLaunch": false,
    "category": "General purpose",
    "gpuNum": 0,
    "hideHardwareSpecs": false,
    "memoryGiB": 128,
    "name": "ml.m5d.8xlarge",
    "vcpuNum": 32
   },
   {
    "_defaultOrder": 17,
    "_isFastLaunch": false,
    "category": "General purpose",
    "gpuNum": 0,
    "hideHardwareSpecs": false,
    "memoryGiB": 192,
    "name": "ml.m5d.12xlarge",
    "vcpuNum": 48
   },
   {
    "_defaultOrder": 18,
    "_isFastLaunch": false,
    "category": "General purpose",
    "gpuNum": 0,
    "hideHardwareSpecs": false,
    "memoryGiB": 256,
    "name": "ml.m5d.16xlarge",
    "vcpuNum": 64
   },
   {
    "_defaultOrder": 19,
    "_isFastLaunch": false,
    "category": "General purpose",
    "gpuNum": 0,
    "hideHardwareSpecs": false,
    "memoryGiB": 384,
    "name": "ml.m5d.24xlarge",
    "vcpuNum": 96
   },
   {
    "_defaultOrder": 20,
    "_isFastLaunch": false,
    "category": "General purpose",
    "gpuNum": 0,
    "hideHardwareSpecs": true,
    "memoryGiB": 0,
    "name": "ml.geospatial.interactive",
    "supportedImageNames": [
     "sagemaker-geospatial-v1-0"
    ],
    "vcpuNum": 0
   },
   {
    "_defaultOrder": 21,
    "_isFastLaunch": true,
    "category": "Compute optimized",
    "gpuNum": 0,
    "hideHardwareSpecs": false,
    "memoryGiB": 4,
    "name": "ml.c5.large",
    "vcpuNum": 2
   },
   {
    "_defaultOrder": 22,
    "_isFastLaunch": false,
    "category": "Compute optimized",
    "gpuNum": 0,
    "hideHardwareSpecs": false,
    "memoryGiB": 8,
    "name": "ml.c5.xlarge",
    "vcpuNum": 4
   },
   {
    "_defaultOrder": 23,
    "_isFastLaunch": false,
    "category": "Compute optimized",
    "gpuNum": 0,
    "hideHardwareSpecs": false,
    "memoryGiB": 16,
    "name": "ml.c5.2xlarge",
    "vcpuNum": 8
   },
   {
    "_defaultOrder": 24,
    "_isFastLaunch": false,
    "category": "Compute optimized",
    "gpuNum": 0,
    "hideHardwareSpecs": false,
    "memoryGiB": 32,
    "name": "ml.c5.4xlarge",
    "vcpuNum": 16
   },
   {
    "_defaultOrder": 25,
    "_isFastLaunch": false,
    "category": "Compute optimized",
    "gpuNum": 0,
    "hideHardwareSpecs": false,
    "memoryGiB": 72,
    "name": "ml.c5.9xlarge",
    "vcpuNum": 36
   },
   {
    "_defaultOrder": 26,
    "_isFastLaunch": false,
    "category": "Compute optimized",
    "gpuNum": 0,
    "hideHardwareSpecs": false,
    "memoryGiB": 96,
    "name": "ml.c5.12xlarge",
    "vcpuNum": 48
   },
   {
    "_defaultOrder": 27,
    "_isFastLaunch": false,
    "category": "Compute optimized",
    "gpuNum": 0,
    "hideHardwareSpecs": false,
    "memoryGiB": 144,
    "name": "ml.c5.18xlarge",
    "vcpuNum": 72
   },
   {
    "_defaultOrder": 28,
    "_isFastLaunch": false,
    "category": "Compute optimized",
    "gpuNum": 0,
    "hideHardwareSpecs": false,
    "memoryGiB": 192,
    "name": "ml.c5.24xlarge",
    "vcpuNum": 96
   },
   {
    "_defaultOrder": 29,
    "_isFastLaunch": true,
    "category": "Accelerated computing",
    "gpuNum": 1,
    "hideHardwareSpecs": false,
    "memoryGiB": 16,
    "name": "ml.g4dn.xlarge",
    "vcpuNum": 4
   },
   {
    "_defaultOrder": 30,
    "_isFastLaunch": false,
    "category": "Accelerated computing",
    "gpuNum": 1,
    "hideHardwareSpecs": false,
    "memoryGiB": 32,
    "name": "ml.g4dn.2xlarge",
    "vcpuNum": 8
   },
   {
    "_defaultOrder": 31,
    "_isFastLaunch": false,
    "category": "Accelerated computing",
    "gpuNum": 1,
    "hideHardwareSpecs": false,
    "memoryGiB": 64,
    "name": "ml.g4dn.4xlarge",
    "vcpuNum": 16
   },
   {
    "_defaultOrder": 32,
    "_isFastLaunch": false,
    "category": "Accelerated computing",
    "gpuNum": 1,
    "hideHardwareSpecs": false,
    "memoryGiB": 128,
    "name": "ml.g4dn.8xlarge",
    "vcpuNum": 32
   },
   {
    "_defaultOrder": 33,
    "_isFastLaunch": false,
    "category": "Accelerated computing",
    "gpuNum": 4,
    "hideHardwareSpecs": false,
    "memoryGiB": 192,
    "name": "ml.g4dn.12xlarge",
    "vcpuNum": 48
   },
   {
    "_defaultOrder": 34,
    "_isFastLaunch": false,
    "category": "Accelerated computing",
    "gpuNum": 1,
    "hideHardwareSpecs": false,
    "memoryGiB": 256,
    "name": "ml.g4dn.16xlarge",
    "vcpuNum": 64
   },
   {
    "_defaultOrder": 35,
    "_isFastLaunch": false,
    "category": "Accelerated computing",
    "gpuNum": 1,
    "hideHardwareSpecs": false,
    "memoryGiB": 61,
    "name": "ml.p3.2xlarge",
    "vcpuNum": 8
   },
   {
    "_defaultOrder": 36,
    "_isFastLaunch": false,
    "category": "Accelerated computing",
    "gpuNum": 4,
    "hideHardwareSpecs": false,
    "memoryGiB": 244,
    "name": "ml.p3.8xlarge",
    "vcpuNum": 32
   },
   {
    "_defaultOrder": 37,
    "_isFastLaunch": false,
    "category": "Accelerated computing",
    "gpuNum": 8,
    "hideHardwareSpecs": false,
    "memoryGiB": 488,
    "name": "ml.p3.16xlarge",
    "vcpuNum": 64
   },
   {
    "_defaultOrder": 38,
    "_isFastLaunch": false,
    "category": "Accelerated computing",
    "gpuNum": 8,
    "hideHardwareSpecs": false,
    "memoryGiB": 768,
    "name": "ml.p3dn.24xlarge",
    "vcpuNum": 96
   },
   {
    "_defaultOrder": 39,
    "_isFastLaunch": false,
    "category": "Memory Optimized",
    "gpuNum": 0,
    "hideHardwareSpecs": false,
    "memoryGiB": 16,
    "name": "ml.r5.large",
    "vcpuNum": 2
   },
   {
    "_defaultOrder": 40,
    "_isFastLaunch": false,
    "category": "Memory Optimized",
    "gpuNum": 0,
    "hideHardwareSpecs": false,
    "memoryGiB": 32,
    "name": "ml.r5.xlarge",
    "vcpuNum": 4
   },
   {
    "_defaultOrder": 41,
    "_isFastLaunch": false,
    "category": "Memory Optimized",
    "gpuNum": 0,
    "hideHardwareSpecs": false,
    "memoryGiB": 64,
    "name": "ml.r5.2xlarge",
    "vcpuNum": 8
   },
   {
    "_defaultOrder": 42,
    "_isFastLaunch": false,
    "category": "Memory Optimized",
    "gpuNum": 0,
    "hideHardwareSpecs": false,
    "memoryGiB": 128,
    "name": "ml.r5.4xlarge",
    "vcpuNum": 16
   },
   {
    "_defaultOrder": 43,
    "_isFastLaunch": false,
    "category": "Memory Optimized",
    "gpuNum": 0,
    "hideHardwareSpecs": false,
    "memoryGiB": 256,
    "name": "ml.r5.8xlarge",
    "vcpuNum": 32
   },
   {
    "_defaultOrder": 44,
    "_isFastLaunch": false,
    "category": "Memory Optimized",
    "gpuNum": 0,
    "hideHardwareSpecs": false,
    "memoryGiB": 384,
    "name": "ml.r5.12xlarge",
    "vcpuNum": 48
   },
   {
    "_defaultOrder": 45,
    "_isFastLaunch": false,
    "category": "Memory Optimized",
    "gpuNum": 0,
    "hideHardwareSpecs": false,
    "memoryGiB": 512,
    "name": "ml.r5.16xlarge",
    "vcpuNum": 64
   },
   {
    "_defaultOrder": 46,
    "_isFastLaunch": false,
    "category": "Memory Optimized",
    "gpuNum": 0,
    "hideHardwareSpecs": false,
    "memoryGiB": 768,
    "name": "ml.r5.24xlarge",
    "vcpuNum": 96
   },
   {
    "_defaultOrder": 47,
    "_isFastLaunch": false,
    "category": "Accelerated computing",
    "gpuNum": 1,
    "hideHardwareSpecs": false,
    "memoryGiB": 16,
    "name": "ml.g5.xlarge",
    "vcpuNum": 4
   },
   {
    "_defaultOrder": 48,
    "_isFastLaunch": false,
    "category": "Accelerated computing",
    "gpuNum": 1,
    "hideHardwareSpecs": false,
    "memoryGiB": 32,
    "name": "ml.g5.2xlarge",
    "vcpuNum": 8
   },
   {
    "_defaultOrder": 49,
    "_isFastLaunch": false,
    "category": "Accelerated computing",
    "gpuNum": 1,
    "hideHardwareSpecs": false,
    "memoryGiB": 64,
    "name": "ml.g5.4xlarge",
    "vcpuNum": 16
   },
   {
    "_defaultOrder": 50,
    "_isFastLaunch": false,
    "category": "Accelerated computing",
    "gpuNum": 1,
    "hideHardwareSpecs": false,
    "memoryGiB": 128,
    "name": "ml.g5.8xlarge",
    "vcpuNum": 32
   },
   {
    "_defaultOrder": 51,
    "_isFastLaunch": false,
    "category": "Accelerated computing",
    "gpuNum": 1,
    "hideHardwareSpecs": false,
    "memoryGiB": 256,
    "name": "ml.g5.16xlarge",
    "vcpuNum": 64
   },
   {
    "_defaultOrder": 52,
    "_isFastLaunch": false,
    "category": "Accelerated computing",
    "gpuNum": 4,
    "hideHardwareSpecs": false,
    "memoryGiB": 192,
    "name": "ml.g5.12xlarge",
    "vcpuNum": 48
   },
   {
    "_defaultOrder": 53,
    "_isFastLaunch": false,
    "category": "Accelerated computing",
    "gpuNum": 4,
    "hideHardwareSpecs": false,
    "memoryGiB": 384,
    "name": "ml.g5.24xlarge",
    "vcpuNum": 96
   },
   {
    "_defaultOrder": 54,
    "_isFastLaunch": false,
    "category": "Accelerated computing",
    "gpuNum": 8,
    "hideHardwareSpecs": false,
    "memoryGiB": 768,
    "name": "ml.g5.48xlarge",
    "vcpuNum": 192
   },
   {
    "_defaultOrder": 55,
    "_isFastLaunch": false,
    "category": "Accelerated computing",
    "gpuNum": 8,
    "hideHardwareSpecs": false,
    "memoryGiB": 1152,
    "name": "ml.p4d.24xlarge",
    "vcpuNum": 96
   },
   {
    "_defaultOrder": 56,
    "_isFastLaunch": false,
    "category": "Accelerated computing",
    "gpuNum": 8,
    "hideHardwareSpecs": false,
    "memoryGiB": 1152,
    "name": "ml.p4de.24xlarge",
    "vcpuNum": 96
   }
  ],
  "instance_type": "ml.t3.medium",
  "kernelspec": {
   "display_name": "Python 3 (Data Science 3.0)",
   "language": "python",
   "name": "python3__SAGEMAKER_INTERNAL__arn:aws:sagemaker:eu-central-1:936697816551:image/sagemaker-data-science-310-v1"
  },
  "language_info": {
   "codemirror_mode": {
    "name": "ipython",
    "version": 3
   },
   "file_extension": ".py",
   "mimetype": "text/x-python",
   "name": "python",
   "nbconvert_exporter": "python",
   "pygments_lexer": "ipython3",
   "version": "3.10.6"
  }
 },
 "nbformat": 4,
 "nbformat_minor": 5
}
